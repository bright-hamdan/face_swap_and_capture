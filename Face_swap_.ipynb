{
 "cells": [
  {
   "cell_type": "markdown",
   "metadata": {},
   "source": [
    "## Face Swapper and capturer\n",
    "### Contributor : CHAUDHARY HAMDAN\n",
    "###### All you need is once the camera window is opened after running the code, press space to capture the photo and 'q' to quit "
   ]
  },
  {
   "cell_type": "code",
   "execution_count": 1,
   "metadata": {},
   "outputs": [],
   "source": [
    "import cv2\n",
    "import numpy as np\n",
    "from datetime import datetime"
   ]
  },
  {
   "cell_type": "code",
   "execution_count": 20,
   "metadata": {},
   "outputs": [],
   "source": [
    "cap = cv2.VideoCapture(0)\n",
    "prvdt_string = ''\n",
    "\n",
    "face_cascade = cv2.CascadeClassifier('Haarcascade/haarcascade_frontal_face_detection.xml')\n",
    "while True:\n",
    "    ret,frame = cap.read()\n",
    "    if ret == False:\n",
    "        continue\n",
    "    faces = face_cascade.detectMultiScale(frame,1.3,5)\n",
    "    \n",
    "    for i in range(0,len(faces),2):\n",
    "        x1,y1,w1,h1 = faces[i]\n",
    "        try:\n",
    "            x2,y2,w2,h2 = faces[i+1]\n",
    "            face1 = frame[y1:y1+h1,x1:x1+w1]\n",
    "            face2 = frame[y2:y2+h2,x2:x2+w2]\n",
    "\n",
    "            face1 = cv2.resize(face1,(w2,h2))\n",
    "            face2 = cv2.resize(face2,(w1,h1))\n",
    "\n",
    "            frame[y1:y1+h1,x1:x1+w1] = face2\n",
    "            frame[y2:y2+h2,x2:x2+w2] = face1\n",
    "        except:\n",
    "            pass\n",
    "    cv2.imshow('Frame',frame)\n",
    "    key_pressed = cv2.waitKey(1) & 0xff\n",
    "    \n",
    "    if key_pressed == ord(' '):\n",
    "        dt_string = datetime.now().strftime(\"%d%m%Y_%H%M%S\")\n",
    "        if prvdt_string == dt_string:\n",
    "            c += 1\n",
    "        else:\n",
    "            prvdt_string = dt_string\n",
    "            c = 0\n",
    "        ans_string = dt_string+'_'+str(c)\n",
    "        cv2.imwrite(filename=f'Photos_Face_Swapper/Hamdan_s_OpenCV_{ans_string}.jpg', img=frame)\n",
    "    \n",
    "    if key_pressed == ord('q') or key_pressed == ord('Q'):\n",
    "        break\n",
    "cap.release()\n",
    "cv2.destroyAllWindows()\n",
    "\n"
   ]
  },
  {
   "cell_type": "code",
   "execution_count": 105,
   "metadata": {},
   "outputs": [],
   "source": []
  },
  {
   "cell_type": "code",
   "execution_count": null,
   "metadata": {},
   "outputs": [],
   "source": []
  }
 ],
 "metadata": {
  "kernelspec": {
   "display_name": "Python 3",
   "language": "python",
   "name": "python3"
  },
  "language_info": {
   "codemirror_mode": {
    "name": "ipython",
    "version": 3
   },
   "file_extension": ".py",
   "mimetype": "text/x-python",
   "name": "python",
   "nbconvert_exporter": "python",
   "pygments_lexer": "ipython3",
   "version": "3.6.5"
  }
 },
 "nbformat": 4,
 "nbformat_minor": 2
}
